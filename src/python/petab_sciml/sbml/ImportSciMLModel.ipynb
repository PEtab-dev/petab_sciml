{
 "cells": [
  {
   "cell_type": "code",
   "execution_count": 1,
   "metadata": {},
   "outputs": [],
   "source": [
    "from pathlib import Path\n",
    "import petab_sciml\n",
    "import nnUDE\n",
    "import yaml"
   ]
  },
  {
   "cell_type": "code",
   "execution_count": 2,
   "metadata": {},
   "outputs": [
    {
     "data": {
      "text/plain": [
       "PosixPath('/home/maren/petab_sciml/test_cases/published/lv_001/problem_ude.yaml')"
      ]
     },
     "execution_count": 2,
     "metadata": {},
     "output_type": "execute_result"
    }
   ],
   "source": [
    "fp_problem_yaml = (\n",
    "    Path(\".\").resolve().parents[3] /\n",
    "    \"test_cases\" /\n",
    "    \"published\" / \n",
    "    \"lv_001\" / \n",
    "    \"problem_ude.yaml\"\n",
    ")\n",
    "fp_problem_yaml"
   ]
  },
  {
   "cell_type": "code",
   "execution_count": 3,
   "metadata": {},
   "outputs": [],
   "source": [
    "# import into petab_sciml\n",
    "\n",
    "with open(fp_problem_yaml) as stream:\n",
    "    problem_yaml = yaml.safe_load(stream)\n",
    "\n",
    "fp_net_yaml = (\n",
    "    fp_problem_yaml.parent / \n",
    "    problem_yaml['extensions']['petab_sciml']['net_files'][0]\n",
    ")\n",
    "with open(fp_net_yaml) as stream:\n",
    "    net1_yaml = yaml.safe_load(stream)\n",
    "\n",
    "nn_model = net1_yaml['models'][0]\n",
    "\n",
    "# ensure it's a FFNN\n",
    "for layer in nn_model[\"layers\"]:\n",
    "    assert layer['layer_type'] == 'Linear', \\\n",
    "        f\"Non-linear layer: {layer}\"\n",
    "    \n",
    "# first layer item should be a placeholder\n",
    "assert nn_model[\"forward\"][0]['op'] == 'placeholder', \\\n",
    "        f\"First op is not 'placeholder': {nn_model['forward'][0]}\"\n",
    "\n",
    "# iterate over items in forward\n",
    "# ensure at most one activation function between layers"
   ]
  },
  {
   "cell_type": "code",
   "execution_count": 4,
   "metadata": {},
   "outputs": [
    {
     "data": {
      "text/plain": [
       "{'models': [{'mlmodel_id': 'model1',\n",
       "   'inputs': [{'input_id': 'input1', 'transform': None}],\n",
       "   'layers': [{'layer_id': 'layer1',\n",
       "     'layer_type': 'Linear',\n",
       "     'args': {'in_features': 2, 'out_features': 2, 'bias': True}},\n",
       "    {'layer_id': 'layer2',\n",
       "     'layer_type': 'Linear',\n",
       "     'args': {'in_features': 2, 'out_features': 2, 'bias': True}}],\n",
       "   'forward': [{'name': 'x',\n",
       "     'op': 'placeholder',\n",
       "     'target': 'x',\n",
       "     'args': [],\n",
       "     'kwargs': {}},\n",
       "    {'name': 'layer1',\n",
       "     'op': 'call_module',\n",
       "     'target': 'layer1',\n",
       "     'args': ['x'],\n",
       "     'kwargs': {}},\n",
       "    {'name': 'tanh',\n",
       "     'op': 'call_method',\n",
       "     'target': 'tanh',\n",
       "     'args': ['layer1'],\n",
       "     'kwargs': {}},\n",
       "    {'name': 'layer2',\n",
       "     'op': 'call_module',\n",
       "     'target': 'layer2',\n",
       "     'args': ['tanh'],\n",
       "     'kwargs': {}},\n",
       "    {'name': 'output',\n",
       "     'op': 'output',\n",
       "     'target': 'output',\n",
       "     'args': ['layer2'],\n",
       "     'kwargs': {}}]}]}"
      ]
     },
     "execution_count": 4,
     "metadata": {},
     "output_type": "execute_result"
    }
   ],
   "source": [
    "net1_yaml"
   ]
  },
  {
   "cell_type": "code",
   "execution_count": null,
   "metadata": {},
   "outputs": [],
   "source": []
  }
 ],
 "metadata": {
  "kernelspec": {
   "display_name": "venv",
   "language": "python",
   "name": "python3"
  },
  "language_info": {
   "codemirror_mode": {
    "name": "ipython",
    "version": 3
   },
   "file_extension": ".py",
   "mimetype": "text/x-python",
   "name": "python",
   "nbconvert_exporter": "python",
   "pygments_lexer": "ipython3",
   "version": "3.12.2"
  }
 },
 "nbformat": 4,
 "nbformat_minor": 2
}
