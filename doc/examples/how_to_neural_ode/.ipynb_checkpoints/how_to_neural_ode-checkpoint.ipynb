{
 "cells": [
  {
   "cell_type": "markdown",
   "id": "85e61efa-c382-4fcd-a649-19aff93f7309",
   "metadata": {},
   "source": [
    "# How To: Neural ODE"
   ]
  },
  {
   "cell_type": "markdown",
   "id": "e2ae1512-526e-4287-82a8-f95234bc5f84",
   "metadata": {},
   "source": [
    "In the Neural ODE case, the whole RHS of each equation is replaced with a network.  So the Lotka-Voltera system:\n",
    "\n",
    "$$\\frac{\\mathrm{d} \\text{prey}}{\\mathrm{d} t} = \\alpha \\cdot \\text{prey} - \\beta \\cdot \\text{prey} \\cdot \\text{predator}$$\n",
    "\n",
    "$$\\frac{\\mathrm{d} \\text{predator}}{\\mathrm{d} t} = \\gamma \\cdot \\text{prey} \\cdot \\text{predator} - \\delta \\cdot \\text{predator}$$\n",
    "\n",
    "simply becomes,\n",
    "\n",
    "$$\\frac{\\mathrm{d} \\text{prey}}{\\mathrm{d} t} = \\text{NN}(\\text{prey}, \\text{predator})[0]$$\n",
    "\n",
    "$$\\frac{\\mathrm{d} \\text{predator}}{\\mathrm{d} t} = \\text{NN}(\\text{prey}, \\text{predator})[1]$$\n",
    "\n",
    "In the SBML model the species ``prey`` and ``predator`` are defined as these will be used as inputs to the neural network.  Also two parameters $\\alpha$ and $\\delta$ are defined.  These will be mapped to neural network outputs in the PEtab files."
   ]
  },
  {
   "cell_type": "markdown",
   "id": "5470f21a-0ebf-4ba6-a8a7-e87b120669b9",
   "metadata": {},
   "source": [
    "## Loading the PEtab problem"
   ]
  },
  {
   "cell_type": "code",
   "execution_count": null,
   "id": "37db1309-2d0d-47c6-ba23-8b513db2a128",
   "metadata": {
    "slideshow": {
     "slide_type": "subslide"
    }
   },
   "outputs": [],
   "source": [
    "from amici.petab import import_petab_problem\n",
    "from amici.jax import (\n",
    "    JAXProblem,\n",
    "    run_simulations,\n",
    ")\n",
    "from petab.v2 import Problem\n",
    "\n",
    "# Create the PEtab problem\n",
    "petab_problem = Problem.from_yaml(\"problem.yaml\")\n",
    "\n",
    "# Create AMICI model for the petab problem\n",
    "jax_model = import_petab_problem(\n",
    "    petab_problem,\n",
    "    model_output_dir=\"model\",\n",
    "    compile_=True,\n",
    "    jax=True\n",
    ")\n",
    "\n",
    "# Create the JAXProblem - wrapper for the AMICI model\n",
    "jax_problem = JAXProblem(jax_model, petab_problem)"
   ]
  },
  {
   "cell_type": "markdown",
   "id": "b8ab3aa8-a5dc-498e-9457-34e3e0d5bcec",
   "metadata": {},
   "source": [
    "The hybridization and mapping tables show us how the neural network inputs and outputs are mapped to the model."
   ]
  },
  {
   "cell_type": "code",
   "execution_count": 6,
   "id": "c33ade41-69d5-4b7c-8e4c-6f06137c017a",
   "metadata": {},
   "outputs": [
    {
     "data": {
      "text/html": [
       "<div>\n",
       "<style scoped>\n",
       "    .dataframe tbody tr th:only-of-type {\n",
       "        vertical-align: middle;\n",
       "    }\n",
       "\n",
       "    .dataframe tbody tr th {\n",
       "        vertical-align: top;\n",
       "    }\n",
       "\n",
       "    .dataframe thead th {\n",
       "        text-align: right;\n",
       "    }\n",
       "</style>\n",
       "<table border=\"1\" class=\"dataframe\">\n",
       "  <thead>\n",
       "    <tr style=\"text-align: right;\">\n",
       "      <th></th>\n",
       "      <th>targetValue</th>\n",
       "    </tr>\n",
       "    <tr>\n",
       "      <th>targetId</th>\n",
       "      <th></th>\n",
       "    </tr>\n",
       "  </thead>\n",
       "  <tbody>\n",
       "    <tr>\n",
       "      <th>net1_input1</th>\n",
       "      <td>prey</td>\n",
       "    </tr>\n",
       "    <tr>\n",
       "      <th>net1_input2</th>\n",
       "      <td>predator</td>\n",
       "    </tr>\n",
       "    <tr>\n",
       "      <th>alpha</th>\n",
       "      <td>net1_output1</td>\n",
       "    </tr>\n",
       "    <tr>\n",
       "      <th>delta</th>\n",
       "      <td>net1_output2</td>\n",
       "    </tr>\n",
       "  </tbody>\n",
       "</table>\n",
       "</div>"
      ],
      "text/plain": [
       "              targetValue\n",
       "targetId                 \n",
       "net1_input1          prey\n",
       "net1_input2      predator\n",
       "alpha        net1_output1\n",
       "delta        net1_output2"
      ]
     },
     "execution_count": 6,
     "metadata": {},
     "output_type": "execute_result"
    }
   ],
   "source": [
    "jax_problem._petab_problem.hybridization_df"
   ]
  },
  {
   "cell_type": "code",
   "execution_count": 10,
   "id": "0b42b898-b3a9-4163-9847-d40170f18835",
   "metadata": {},
   "outputs": [
    {
     "data": {
      "text/html": [
       "<div>\n",
       "<style scoped>\n",
       "    .dataframe tbody tr th:only-of-type {\n",
       "        vertical-align: middle;\n",
       "    }\n",
       "\n",
       "    .dataframe tbody tr th {\n",
       "        vertical-align: top;\n",
       "    }\n",
       "\n",
       "    .dataframe thead th {\n",
       "        text-align: right;\n",
       "    }\n",
       "</style>\n",
       "<table border=\"1\" class=\"dataframe\">\n",
       "  <thead>\n",
       "    <tr style=\"text-align: right;\">\n",
       "      <th></th>\n",
       "      <th>modelEntityId</th>\n",
       "    </tr>\n",
       "    <tr>\n",
       "      <th>petabEntityId</th>\n",
       "      <th></th>\n",
       "    </tr>\n",
       "  </thead>\n",
       "  <tbody>\n",
       "    <tr>\n",
       "      <th>net1_input1</th>\n",
       "      <td>net1.inputs[0][0]</td>\n",
       "    </tr>\n",
       "    <tr>\n",
       "      <th>net1_input2</th>\n",
       "      <td>net1.inputs[0][1]</td>\n",
       "    </tr>\n",
       "    <tr>\n",
       "      <th>net1_output1</th>\n",
       "      <td>net1.outputs[0][0]</td>\n",
       "    </tr>\n",
       "    <tr>\n",
       "      <th>net1_output2</th>\n",
       "      <td>net1.outputs[0][1]</td>\n",
       "    </tr>\n",
       "    <tr>\n",
       "      <th>net1_ps</th>\n",
       "      <td>net1.parameters</td>\n",
       "    </tr>\n",
       "  </tbody>\n",
       "</table>\n",
       "</div>"
      ],
      "text/plain": [
       "                    modelEntityId\n",
       "petabEntityId                    \n",
       "net1_input1     net1.inputs[0][0]\n",
       "net1_input2     net1.inputs[0][1]\n",
       "net1_output1   net1.outputs[0][0]\n",
       "net1_output2   net1.outputs[0][1]\n",
       "net1_ps           net1.parameters"
      ]
     },
     "execution_count": 10,
     "metadata": {},
     "output_type": "execute_result"
    }
   ],
   "source": [
    "petab_problem.mapping_df"
   ]
  },
  {
   "cell_type": "markdown",
   "id": "736d0ff5-a4b3-427b-a2e4-ccd3516a60bf",
   "metadata": {},
   "source": [
    "The inputs to the neural network are given by the ``prey`` and ``predator`` species.  $\\alpha$, the ``prey`` concentration over time as defined by the SBML model, is given by the first output of the network. $\\delta$, the ``predator`` concentration over time, is given by the second output of the network."
   ]
  },
  {
   "cell_type": "markdown",
   "id": "c134e21c-1654-4ec8-a5ec-e3a3be337314",
   "metadata": {
    "slideshow": {
     "slide_type": "slide"
    }
   },
   "source": [
    "It is also worth showing that the parameter table only has the network parameters defined in it. Unlike previous examples, there are no other parameters to be estimated in the problem. We will optimise the network parameters and then the outputs of the network will give us the solution to our ODEs."
   ]
  },
  {
   "cell_type": "code",
   "execution_count": 8,
   "id": "53d584e2-b3c5-485c-a648-7139a6f4c4ca",
   "metadata": {},
   "outputs": [
    {
     "data": {
      "text/html": [
       "<div>\n",
       "<style scoped>\n",
       "    .dataframe tbody tr th:only-of-type {\n",
       "        vertical-align: middle;\n",
       "    }\n",
       "\n",
       "    .dataframe tbody tr th {\n",
       "        vertical-align: top;\n",
       "    }\n",
       "\n",
       "    .dataframe thead th {\n",
       "        text-align: right;\n",
       "    }\n",
       "</style>\n",
       "<table border=\"1\" class=\"dataframe\">\n",
       "  <thead>\n",
       "    <tr style=\"text-align: right;\">\n",
       "      <th></th>\n",
       "      <th>parameterScale</th>\n",
       "      <th>lowerBound</th>\n",
       "      <th>upperBound</th>\n",
       "      <th>nominalValue</th>\n",
       "      <th>estimate</th>\n",
       "    </tr>\n",
       "    <tr>\n",
       "      <th>parameterId</th>\n",
       "      <th></th>\n",
       "      <th></th>\n",
       "      <th></th>\n",
       "      <th></th>\n",
       "      <th></th>\n",
       "    </tr>\n",
       "  </thead>\n",
       "  <tbody>\n",
       "    <tr>\n",
       "      <th>net1_ps</th>\n",
       "      <td>lin</td>\n",
       "      <td>-inf</td>\n",
       "      <td>inf</td>\n",
       "      <td>NaN</td>\n",
       "      <td>1</td>\n",
       "    </tr>\n",
       "  </tbody>\n",
       "</table>\n",
       "</div>"
      ],
      "text/plain": [
       "            parameterScale  lowerBound  upperBound  nominalValue  estimate\n",
       "parameterId                                                               \n",
       "net1_ps                lin        -inf         inf           NaN         1"
      ]
     },
     "execution_count": 8,
     "metadata": {},
     "output_type": "execute_result"
    }
   ],
   "source": [
    "petab_problem.parameter_df"
   ]
  },
  {
   "cell_type": "markdown",
   "id": "0a22e30d-d138-4949-83c8-a21e58612caa",
   "metadata": {},
   "source": [
    "## Running simulations"
   ]
  },
  {
   "cell_type": "code",
   "execution_count": 9,
   "id": "dd5f7aee-a86f-474a-897e-202ed2951fc5",
   "metadata": {},
   "outputs": [],
   "source": [
    "import equinox as eqx\n",
    "\n",
    "# Run simulations - results in llh - metrics in r\n",
    "llh, r = run_simulations(jax_problem)\n",
    "\n",
    "# Run simulations in gradient mode - gradients given in sllh\n",
    "sllh, rgrad = eqx.filter_grad(run_simulations, has_aux=True)(jax_problem)"
   ]
  }
 ],
 "metadata": {
  "kernelspec": {
   "display_name": "Python 3 (ipykernel)",
   "language": "python",
   "name": "python3"
  },
  "language_info": {
   "codemirror_mode": {
    "name": "ipython",
    "version": 3
   },
   "file_extension": ".py",
   "mimetype": "text/x-python",
   "name": "python",
   "nbconvert_exporter": "python",
   "pygments_lexer": "ipython3",
   "version": "3.12.3"
  }
 },
 "nbformat": 4,
 "nbformat_minor": 5
}
