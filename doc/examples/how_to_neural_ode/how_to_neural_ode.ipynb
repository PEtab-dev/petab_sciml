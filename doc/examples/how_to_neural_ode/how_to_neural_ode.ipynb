{
 "cells": [
  {
   "cell_type": "markdown",
   "id": "85e61efa-c382-4fcd-a649-19aff93f7309",
   "metadata": {},
   "source": [
    "# How To: Neural ODE"
   ]
  },
  {
   "cell_type": "markdown",
   "id": "e2ae1512-526e-4287-82a8-f95234bc5f84",
   "metadata": {},
   "source": [
    "In the Neural ODE case, the whole RHS of each equation is replaced with a network.  So the Lotka-Voltera system,\n",
    "\n",
    "$$\\frac{\\mathrm{d} \\text{prey}}{\\mathrm{d} t} = \\alpha \\cdot \\text{prey} - \\beta \\cdot \\text{prey} \\cdot \\text{predator}$$\n",
    "\n",
    "$$\\frac{\\mathrm{d} \\text{predator}}{\\mathrm{d} t} = \\gamma \\cdot \\text{prey} \\cdot \\text{predator} - \\delta \\cdot \\text{predator}$$\n",
    "\n",
    "simply becomes,\n",
    "\n",
    "$$\\frac{\\mathrm{d} \\text{prey}}{\\mathrm{d} t} = \\text{NN}(\\text{prey}, \\text{predator})[0]$$\n",
    "\n",
    "$$\\frac{\\mathrm{d} \\text{predator}}{\\mathrm{d} t} = \\text{NN}(\\text{prey}, \\text{predator})[1]$$\n",
    "\n",
    "In the SBML model the species ``prey`` and ``predator`` are defined as these will be used as inputs to the neural network.  Also two parameters $\\alpha$ and $\\delta$ are defined.  These will be mapped to neural network outputs in the PEtab files."
   ]
  },
  {
   "cell_type": "markdown",
   "id": "a706dd6a-98c8-493b-b73e-a4173af450cd",
   "metadata": {},
   "source": [
    "## Defining the network architecture"
   ]
  },
  {
   "cell_type": "code",
   "execution_count": 38,
   "id": "c1d328c2-8032-4ab8-9fe6-fd2e74622a61",
   "metadata": {},
   "outputs": [],
   "source": [
    "from petab_sciml.standard.nn_model import Input, NNModel, NNModelStandard\n",
    "import torch\n",
    "from torch import nn\n",
    "import torch.nn.functional as F\n",
    "\n",
    "class NeuralNetwork(nn.Module):\n",
    "    def __init__(self):\n",
    "        super().__init__()\n",
    "        self.layer1 = torch.nn.Linear(2, 5)\n",
    "        self.layer2 = torch.nn.Linear(5, 5)\n",
    "        self.layer3 = torch.nn.Linear(5, 1)\n",
    "\n",
    "    def forward(self, net_input):\n",
    "        x = self.layer1(net_input)\n",
    "        x = F.sigmoid(x)\n",
    "        x = self.layer2(x)\n",
    "        x = F.sigmoid(x)\n",
    "        x = self.layer3(x)\n",
    "        return x\n",
    "\n",
    "net1 = NeuralNetwork()\n",
    "nn_model1 = NNModel.from_pytorch_module(\n",
    "    module=net1, nn_model_id=\"net1\", inputs=[Input(input_id=\"input0\")]\n",
    ")\n",
    "NNModelStandard.save_data(\n",
    "    data=nn_model1, filename=\"net1.yaml\"\n",
    ")"
   ]
  },
  {
   "cell_type": "markdown",
   "id": "320f12b5-8b91-42c4-ab26-0e9977746e47",
   "metadata": {},
   "source": [
    "The network architecture in this example is kep simple for demonstration purposes.  Refer to the page on supported layers and activation functions for more inspiration, but not that PEtab SciML and its importers currently only support networks with vector outputs. "
   ]
  },
  {
   "cell_type": "markdown",
   "id": "56e1044a-da75-4766-a063-db803c64962b",
   "metadata": {},
   "source": [
    "## Generating the PEtab files\n",
    "\n",
    "**TODO** The PEtab SciML python package provides a utility function to generate the model and PEtab files for a neural ODE case.  The names of the species in the ODE system are required, along with the measurements, network YAML and any array input files. "
   ]
  },
  {
   "cell_type": "code",
   "execution_count": 41,
   "id": "47c89dd2-822d-465c-bc15-3406aa91a59f",
   "metadata": {},
   "outputs": [],
   "source": [
    "# from petab_sciml.problem_utility.neural_ode import generate_neural_ode_problem\n",
    "# generate_neural_ode_problem([\"prey\", \"predator\"], model_filename=\"lv.xml\")"
   ]
  },
  {
   "cell_type": "markdown",
   "id": "d6af94a7-08fe-456b-a91b-6f326f2e286e",
   "metadata": {},
   "source": [
    "## Loading the PEtab problem"
   ]
  },
  {
   "cell_type": "code",
   "execution_count": null,
   "id": "37db1309-2d0d-47c6-ba23-8b513db2a128",
   "metadata": {
    "slideshow": {
     "slide_type": "subslide"
    }
   },
   "outputs": [],
   "source": [
    "from amici.petab import import_petab_problem\n",
    "from amici.jax import (\n",
    "    JAXProblem,\n",
    "    run_simulations,\n",
    ")\n",
    "from petab.v2 import Problem\n",
    "\n",
    "# Create the PEtab problem\n",
    "petab_problem = Problem.from_yaml(\"problem.yaml\")\n",
    "\n",
    "# Create AMICI model for the petab problem\n",
    "jax_model = import_petab_problem(\n",
    "    petab_problem,\n",
    "    model_output_dir=\"model\",\n",
    "    compile_=True,\n",
    "    jax=True\n",
    ")\n",
    "\n",
    "# Create the JAXProblem - wrapper for the AMICI model\n",
    "jax_problem = JAXProblem(jax_model, petab_problem)"
   ]
  },
  {
   "cell_type": "markdown",
   "id": "b8ab3aa8-a5dc-498e-9457-34e3e0d5bcec",
   "metadata": {},
   "source": [
    "The hybridization and mapping tables show us how the neural network inputs and outputs are mapped to the model."
   ]
  },
  {
   "cell_type": "code",
   "execution_count": 8,
   "id": "c33ade41-69d5-4b7c-8e4c-6f06137c017a",
   "metadata": {},
   "outputs": [
    {
     "data": {
      "text/html": [
       "<div>\n",
       "<style scoped>\n",
       "    .dataframe tbody tr th:only-of-type {\n",
       "        vertical-align: middle;\n",
       "    }\n",
       "\n",
       "    .dataframe tbody tr th {\n",
       "        vertical-align: top;\n",
       "    }\n",
       "\n",
       "    .dataframe thead th {\n",
       "        text-align: right;\n",
       "    }\n",
       "</style>\n",
       "<table border=\"1\" class=\"dataframe\">\n",
       "  <thead>\n",
       "    <tr style=\"text-align: right;\">\n",
       "      <th></th>\n",
       "      <th>targetValue</th>\n",
       "    </tr>\n",
       "    <tr>\n",
       "      <th>targetId</th>\n",
       "      <th></th>\n",
       "    </tr>\n",
       "  </thead>\n",
       "  <tbody>\n",
       "    <tr>\n",
       "      <th>net1_input1</th>\n",
       "      <td>prey</td>\n",
       "    </tr>\n",
       "    <tr>\n",
       "      <th>net1_input2</th>\n",
       "      <td>predator</td>\n",
       "    </tr>\n",
       "    <tr>\n",
       "      <th>alpha</th>\n",
       "      <td>net1_output1</td>\n",
       "    </tr>\n",
       "    <tr>\n",
       "      <th>delta</th>\n",
       "      <td>net1_output2</td>\n",
       "    </tr>\n",
       "  </tbody>\n",
       "</table>\n",
       "</div>"
      ],
      "text/plain": [
       "              targetValue\n",
       "targetId                 \n",
       "net1_input1          prey\n",
       "net1_input2      predator\n",
       "alpha        net1_output1\n",
       "delta        net1_output2"
      ]
     },
     "execution_count": 8,
     "metadata": {},
     "output_type": "execute_result"
    }
   ],
   "source": [
    "jax_problem._petab_problem.hybridization_df"
   ]
  },
  {
   "cell_type": "code",
   "execution_count": 9,
   "id": "0b42b898-b3a9-4163-9847-d40170f18835",
   "metadata": {},
   "outputs": [
    {
     "data": {
      "text/html": [
       "<div>\n",
       "<style scoped>\n",
       "    .dataframe tbody tr th:only-of-type {\n",
       "        vertical-align: middle;\n",
       "    }\n",
       "\n",
       "    .dataframe tbody tr th {\n",
       "        vertical-align: top;\n",
       "    }\n",
       "\n",
       "    .dataframe thead th {\n",
       "        text-align: right;\n",
       "    }\n",
       "</style>\n",
       "<table border=\"1\" class=\"dataframe\">\n",
       "  <thead>\n",
       "    <tr style=\"text-align: right;\">\n",
       "      <th></th>\n",
       "      <th>modelEntityId</th>\n",
       "    </tr>\n",
       "    <tr>\n",
       "      <th>petabEntityId</th>\n",
       "      <th></th>\n",
       "    </tr>\n",
       "  </thead>\n",
       "  <tbody>\n",
       "    <tr>\n",
       "      <th>net1_input1</th>\n",
       "      <td>net1.inputs[0][0]</td>\n",
       "    </tr>\n",
       "    <tr>\n",
       "      <th>net1_input2</th>\n",
       "      <td>net1.inputs[0][1]</td>\n",
       "    </tr>\n",
       "    <tr>\n",
       "      <th>net1_output1</th>\n",
       "      <td>net1.outputs[0][0]</td>\n",
       "    </tr>\n",
       "    <tr>\n",
       "      <th>net1_output2</th>\n",
       "      <td>net1.outputs[0][1]</td>\n",
       "    </tr>\n",
       "    <tr>\n",
       "      <th>net1_ps</th>\n",
       "      <td>net1.parameters</td>\n",
       "    </tr>\n",
       "  </tbody>\n",
       "</table>\n",
       "</div>"
      ],
      "text/plain": [
       "                    modelEntityId\n",
       "petabEntityId                    \n",
       "net1_input1     net1.inputs[0][0]\n",
       "net1_input2     net1.inputs[0][1]\n",
       "net1_output1   net1.outputs[0][0]\n",
       "net1_output2   net1.outputs[0][1]\n",
       "net1_ps           net1.parameters"
      ]
     },
     "execution_count": 9,
     "metadata": {},
     "output_type": "execute_result"
    }
   ],
   "source": [
    "petab_problem.mapping_df"
   ]
  },
  {
   "cell_type": "markdown",
   "id": "736d0ff5-a4b3-427b-a2e4-ccd3516a60bf",
   "metadata": {},
   "source": [
    "The inputs to the neural network are given by the ``prey`` and ``predator`` species.  $\\alpha$, the ``prey`` concentration over time as defined by the SBML model, is given by the first output of the network. $\\delta$, the ``predator`` concentration over time, is given by the second output of the network."
   ]
  },
  {
   "cell_type": "markdown",
   "id": "c134e21c-1654-4ec8-a5ec-e3a3be337314",
   "metadata": {
    "slideshow": {
     "slide_type": "slide"
    }
   },
   "source": [
    "It is also worth showing that the parameter table only has the network parameters defined in it. Unlike previous examples, there are no other parameters to be estimated in the problem. We will optimise the network parameters and then the outputs of the network will give us the solution to our ODEs."
   ]
  },
  {
   "cell_type": "code",
   "execution_count": 10,
   "id": "53d584e2-b3c5-485c-a648-7139a6f4c4ca",
   "metadata": {},
   "outputs": [
    {
     "data": {
      "text/html": [
       "<div>\n",
       "<style scoped>\n",
       "    .dataframe tbody tr th:only-of-type {\n",
       "        vertical-align: middle;\n",
       "    }\n",
       "\n",
       "    .dataframe tbody tr th {\n",
       "        vertical-align: top;\n",
       "    }\n",
       "\n",
       "    .dataframe thead th {\n",
       "        text-align: right;\n",
       "    }\n",
       "</style>\n",
       "<table border=\"1\" class=\"dataframe\">\n",
       "  <thead>\n",
       "    <tr style=\"text-align: right;\">\n",
       "      <th></th>\n",
       "      <th>parameterScale</th>\n",
       "      <th>lowerBound</th>\n",
       "      <th>upperBound</th>\n",
       "      <th>nominalValue</th>\n",
       "      <th>estimate</th>\n",
       "    </tr>\n",
       "    <tr>\n",
       "      <th>parameterId</th>\n",
       "      <th></th>\n",
       "      <th></th>\n",
       "      <th></th>\n",
       "      <th></th>\n",
       "      <th></th>\n",
       "    </tr>\n",
       "  </thead>\n",
       "  <tbody>\n",
       "    <tr>\n",
       "      <th>net1_ps</th>\n",
       "      <td>lin</td>\n",
       "      <td>-inf</td>\n",
       "      <td>inf</td>\n",
       "      <td>NaN</td>\n",
       "      <td>1</td>\n",
       "    </tr>\n",
       "  </tbody>\n",
       "</table>\n",
       "</div>"
      ],
      "text/plain": [
       "            parameterScale  lowerBound  upperBound  nominalValue  estimate\n",
       "parameterId                                                               \n",
       "net1_ps                lin        -inf         inf           NaN         1"
      ]
     },
     "execution_count": 10,
     "metadata": {},
     "output_type": "execute_result"
    }
   ],
   "source": [
    "petab_problem.parameter_df"
   ]
  }
 ],
 "metadata": {
  "kernelspec": {
   "display_name": "Python 3 (ipykernel)",
   "language": "python",
   "name": "python3"
  },
  "language_info": {
   "codemirror_mode": {
    "name": "ipython",
    "version": 3
   },
   "file_extension": ".py",
   "mimetype": "text/x-python",
   "name": "python",
   "nbconvert_exporter": "python",
   "pygments_lexer": "ipython3",
   "version": "3.12.3"
  }
 },
 "nbformat": 4,
 "nbformat_minor": 5
}
